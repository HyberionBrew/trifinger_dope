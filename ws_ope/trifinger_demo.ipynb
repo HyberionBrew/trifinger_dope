{
 "cells": [
  {
   "attachments": {},
   "cell_type": "markdown",
   "metadata": {},
   "source": [
    "# Necessary Imports & Setup"
   ]
  },
  {
   "cell_type": "code",
   "execution_count": 3,
   "metadata": {},
   "outputs": [
    {
     "name": "stdout",
     "output_type": "stream",
     "text": [
      "Requirement already satisfied: matplotlib in /envs/eval/lib/python3.8/site-packages (3.7.2)\n",
      "Requirement already satisfied: contourpy>=1.0.1 in /envs/eval/lib/python3.8/site-packages (from matplotlib) (1.1.0)\n",
      "Requirement already satisfied: cycler>=0.10 in /envs/eval/lib/python3.8/site-packages (from matplotlib) (0.11.0)\n",
      "Requirement already satisfied: fonttools>=4.22.0 in /envs/eval/lib/python3.8/site-packages (from matplotlib) (4.40.0)\n",
      "Requirement already satisfied: kiwisolver>=1.0.1 in /envs/eval/lib/python3.8/site-packages (from matplotlib) (1.4.4)\n",
      "Requirement already satisfied: numpy>=1.20 in /envs/eval/lib/python3.8/site-packages (from matplotlib) (1.23.0)\n",
      "Requirement already satisfied: packaging>=20.0 in /envs/eval/lib/python3.8/site-packages (from matplotlib) (23.1)\n",
      "Requirement already satisfied: pillow>=6.2.0 in /envs/eval/lib/python3.8/site-packages (from matplotlib) (9.5.0)\n",
      "Requirement already satisfied: pyparsing<3.1,>=2.3.1 in /envs/eval/lib/python3.8/site-packages (from matplotlib) (3.0.9)\n",
      "Requirement already satisfied: python-dateutil>=2.7 in /envs/eval/lib/python3.8/site-packages (from matplotlib) (2.8.2)\n",
      "Requirement already satisfied: importlib-resources>=3.2.0 in /envs/eval/lib/python3.8/site-packages (from matplotlib) (5.12.0)\n",
      "Requirement already satisfied: zipp>=3.1.0 in /envs/eval/lib/python3.8/site-packages (from importlib-resources>=3.2.0->matplotlib) (3.15.0)\n",
      "Requirement already satisfied: six>=1.5 in /envs/eval/lib/python3.8/site-packages (from python-dateutil>=2.7->matplotlib) (1.16.0)\n"
     ]
    }
   ],
   "source": [
    "!pip install matplotlib"
   ]
  },
  {
   "cell_type": "code",
   "execution_count": 4,
   "metadata": {},
   "outputs": [],
   "source": [
    "%load_ext autoreload\n",
    "%autoreload 2\n",
    "import os\n",
    "import sys\n",
    "module_path = os.path.abspath(os.path.join('trifinger_rl_datasets'))\n",
    "sys.path.insert(0, module_path)\n",
    "module_path = os.path.abspath(os.path.join('trifinger-rl-example'))\n",
    "sys.path.insert(0, module_path)\n",
    "module_path = os.path.abspath(os.path.join('google-research'))\n",
    "sys.path.insert(0, module_path)"
   ]
  },
  {
   "cell_type": "code",
   "execution_count": 5,
   "metadata": {},
   "outputs": [
    {
     "name": "stderr",
     "output_type": "stream",
     "text": [
      "pybullet build time: May 20 2022 19:44:17\n",
      "2023-07-07 06:45:41.980693: I tensorflow/core/platform/cpu_feature_guard.cc:182] This TensorFlow binary is optimized to use available CPU instructions in performance-critical operations.\n",
      "To enable the following instructions: AVX2 FMA, in other operations, rebuild TensorFlow with the appropriate compiler flags.\n",
      "2023-07-07 06:45:42.821558: W tensorflow/compiler/tf2tensorrt/utils/py_utils.cc:38] TF-TRT Warning: Could not find TensorRT\n"
     ]
    }
   ],
   "source": [
    "import trifinger_rl_datasets\n",
    "import gymnasium as gym\n",
    "\n",
    "# set torch an numpy seed\n",
    "import numpy as np\n",
    "import tensorflow as tf\n",
    "import torch"
   ]
  },
  {
   "cell_type": "code",
   "execution_count": 6,
   "metadata": {},
   "outputs": [],
   "source": [
    "# this can be changed to any other environment in the trifinger gym\n",
    "# see https://webdav.tuebingen.mpg.de/trifinger-rl/docs/datasets/index.html\n",
    "# However, if real robot data is used, no monte carlo sampling is possible \n",
    "# Since real-env does not support simulation\n",
    "env_name = \"trifinger-cube-push-sim-mixed-v0\"\n",
    "normalize_states = True\n",
    "normalize_rewards = True\n",
    "seed = 0\n",
    "\n",
    "# this noise is applied to the rewards, there is a seperate paper \n",
    "# on this improving the performance https://arxiv.org/pdf/2007.13609.pdf\n",
    "noise_scale = 0.0 \n",
    "bootstrap = False # use bootstraped weights\n",
    "sample_batch_size = 256\n",
    "\n",
    "\n",
    "np.random.seed(seed)\n",
    "torch.manual_seed(seed)\n",
    "tf.random.set_seed(seed)"
   ]
  },
  {
   "attachments": {},
   "cell_type": "markdown",
   "metadata": {},
   "source": [
    "Below the process is restricted to using 20% of available GPU memory, otherwise it uses all due to prefetching the huge dataset.\n",
    "\n",
    "If limited to 20% we can launch multiple tf runs in parallel."
   ]
  },
  {
   "cell_type": "code",
   "execution_count": 7,
   "metadata": {},
   "outputs": [
    {
     "name": "stdout",
     "output_type": "stream",
     "text": [
      "1 Physical GPUs, 1 Logical GPUs\n"
     ]
    },
    {
     "name": "stderr",
     "output_type": "stream",
     "text": [
      "2023-07-07 06:45:50.031132: I tensorflow/core/common_runtime/gpu/gpu_device.cc:1635] Created device /job:localhost/replica:0/task:0/device:GPU:0 with 2441 MB memory:  -> device: 0, name: GeForce GTX TITAN X, pci bus id: 0000:03:00.0, compute capability: 5.2\n"
     ]
    }
   ],
   "source": [
    "\n",
    "gpu_memory = 12209 # GPU memory available on the machine\n",
    "gpus = tf.config.experimental.list_physical_devices('GPU')\n",
    "if gpus:\n",
    "  try:\n",
    "    # Restrict TensorFlow to only allocate 20% of the memory on the first GPU\n",
    "    tf.config.experimental.set_virtual_device_configuration(\n",
    "        gpus[0],\n",
    "        [tf.config.experimental.VirtualDeviceConfiguration(memory_limit=(gpu_memory * 0.2))])\n",
    "    logical_gpus = tf.config.experimental.list_logical_devices('GPU')\n",
    "    print(len(gpus), \"Physical GPUs,\", len(logical_gpus), \"Logical GPUs\")\n",
    "  except RuntimeError as e:\n",
    "    # Virtual devices must be set before GPUs have been initialized\n",
    "    print(e, \" GPUs must be set at program startup\")\n",
    "\n"
   ]
  },
  {
   "attachments": {},
   "cell_type": "markdown",
   "metadata": {},
   "source": [
    "# Create Gym env"
   ]
  },
  {
   "cell_type": "code",
   "execution_count": 8,
   "metadata": {},
   "outputs": [
    {
     "name": "stderr",
     "output_type": "stream",
     "text": [
      "/envs/eval/lib/python3.8/site-packages/gymnasium/spaces/box.py:130: UserWarning: \u001b[33mWARN: Box bound precision lowered by casting to float32\u001b[0m\n",
      "  gym.logger.warn(f\"Box bound precision lowered by casting to {self.dtype}\")\n"
     ]
    },
    {
     "name": "stdout",
     "output_type": "stream",
     "text": [
      "Downloading dataset trifinger-cube-push-sim-mixed-v0.\n"
     ]
    },
    {
     "name": "stderr",
     "output_type": "stream",
     "text": [
      "100%|███████████████████████████████████████████████████████████████████████████████████████████████████████████████████████████████████████████████████████| 1/1 [00:14<00:00, 14.66s/it]\n"
     ]
    },
    {
     "name": "stdout",
     "output_type": "stream",
     "text": [
      "Assembling dataset parts.\n"
     ]
    },
    {
     "name": "stderr",
     "output_type": "stream",
     "text": [
      "100%|███████████████████████████████████████████████████████████████████████████████████████████████████████████████████████████████████████████████████████| 1/1 [00:00<00:00,  1.11it/s]\n"
     ]
    },
    {
     "data": {
      "text/plain": [
       "dict_keys(['observations', 'actions', 'rewards', 'timeouts', 'terminals', 'infos'])"
      ]
     },
     "execution_count": 8,
     "metadata": {},
     "output_type": "execute_result"
    }
   ],
   "source": [
    "env = gym.make(\n",
    "    \"trifinger-cube-push-sim-mixed-v0\",\n",
    "    set_terminals =True,  # necessary since DOPE uses the terminals\n",
    "    flatten_obs = True,   # obs as dictionary vs as array  \n",
    "    image_obs = False,    # deactivate fetching images since large amounts of data\n",
    "    visualization=False,  # enable visualization\n",
    ")\n",
    "dataset = env.get_dataset() # pull the dataset\n",
    "dataset.keys()"
   ]
  },
  {
   "cell_type": "code",
   "execution_count": 9,
   "metadata": {},
   "outputs": [
    {
     "data": {
      "image/png": "[encoded data removed]",
      "text/plain": [
       "<Figure size 640x480 with 1 Axes>"
      ]
     },
     "metadata": {},
     "output_type": "display_data"
    }
   ],
   "source": [
    "# you can plot data here e.g.\n",
    "import matplotlib.pyplot as plt\n",
    "# the rewards are a flattened array and each episode is 750 steps\n",
    "plt.plot(dataset[\"rewards\"][:750*2]) \n",
    "plt.plot(dataset[\"terminals\"][:750*2])\n",
    "# add legend\n",
    "plt.legend([\"rewards\", \"terminals\"])\n",
    "plt.show()"
   ]
  },
  {
   "attachments": {},
   "cell_type": "markdown",
   "metadata": {},
   "source": [
    "# Monte Carlo Rollouts\n"
   ]
  },
  {
   "attachments": {},
   "cell_type": "markdown",
   "metadata": {},
   "source": [
    "Load the policy, set num_mc_episodes= 1 such that it works faster!"
   ]
  },
  {
   "cell_type": "code",
   "execution_count": 10,
   "metadata": {},
   "outputs": [],
   "source": [
    "from trifinger_rl_datasets import PolicyBase\n",
    "from trifinger_rl_datasets.evaluate_sim import load_policy_class\n",
    "import typing\n",
    "import tqdm"
   ]
  },
  {
   "cell_type": "code",
   "execution_count": 11,
   "metadata": {},
   "outputs": [],
   "source": [
    "# this is the expert policy, you can also use the random policy\n",
    "# policy_class = \"trifinger_rl_example.example.TorchRandomPolicy\"\n",
    "policy_class = \"trifinger_rl_example.example.TorchPushPolicy\" \n",
    "discount = 0.995\n",
    "monte_carlo = False\n",
    "num_mc_episodes = 50 # Monte carlo roll-outs, set this to 1 if not wanting to wait!"
   ]
  },
  {
   "cell_type": "code",
   "execution_count": 12,
   "metadata": {},
   "outputs": [
    {
     "name": "stdout",
     "output_type": "stream",
     "text": [
      "PolicyConfig(flatten_obs=True, image_obs=False)\n",
      "/app/ws/trifinger-rl-example/trifinger_rl_example/policies/push.pt\n"
     ]
    }
   ],
   "source": [
    "Policy = load_policy_class(policy_class)\n",
    "policy_config = Policy.get_policy_config()\n",
    "print(policy_config)\n",
    "assert(policy_config.flatten_obs == True)\n",
    "assert(policy_config.image_obs == False)\n",
    "actor = Policy(env.action_space, env.observation_space, env.sim_env.episode_length)"
   ]
  },
  {
   "attachments": {},
   "cell_type": "markdown",
   "metadata": {},
   "source": [
    "The `TrifingerActor` class can be: \n",
    "\n",
    "1) called with actions, in this case it returns the logprob of these actions under the observations and a standard deviation. \n",
    "2) called with actions=None, in this case it returns the deterministic actions yielded by the policy network wrt to the observations. If noisy=True the actor uses the actions yielded by the policy as the mean of a normal distribution that is sampled to return the actions."
   ]
  },
  {
   "cell_type": "code",
   "execution_count": 13,
   "metadata": {},
   "outputs": [],
   "source": [
    "\n",
    "class TrifingerActor(object):\n",
    "  def __init__(self, actor, noisy= False):\n",
    "      self.actor = actor\n",
    "      # self.std = std\n",
    "      self.noisy = noisy\n",
    "\n",
    "  def reset(self):\n",
    "      self.actor.reset()\n",
    "\n",
    "  def __call__(self, obs, std= 0.05, actions=None):\n",
    "      self.std = std\n",
    "      # assert that if noisy std > 0 \n",
    "      assert(self.noisy == False or self.std > 0)\n",
    "      if len(obs.shape) == 1:\n",
    "          obs = np.expand_dims(obs, axis=0)\n",
    "          \n",
    "      obs = torch.from_numpy(obs)\n",
    "      action = None\n",
    "      log_prob = None\n",
    "      action_mean = self.actor.policy(obs)\n",
    "\n",
    "      if actions is None: \n",
    "          if self.noisy:\n",
    "              # print the action mean and std\n",
    "              # print(action_mean) # , self.std)\n",
    "              normal = torch.distributions.Normal(action_mean, self.std)\n",
    "              action = normal.sample()\n",
    "              action = torch.clamp(action,torch.tensor(env.action_space.low), torch.tensor(env.action_space.high))\n",
    "              action = action.detach().numpy()\n",
    "              # print the sampled action\n",
    "              # print(action)\n",
    "          else:\n",
    "              action = action_mean.detach().numpy()\n",
    "      else:\n",
    "          actions = torch.from_numpy(actions)\n",
    "          normal = torch.distributions.Normal(action_mean, self.std)\n",
    "          actions = torch.clamp(actions,torch.tensor(env.action_space.low),  torch.tensor(env.action_space.high))\n",
    "          log_prob = normal.log_prob(actions)\n",
    "          log_prob = log_prob.detach().numpy()\n",
    "          action = None\n",
    "      return None, action, log_prob"
   ]
  },
  {
   "cell_type": "code",
   "execution_count": 14,
   "metadata": {},
   "outputs": [
    {
     "name": "stdout",
     "output_type": "stream",
     "text": [
      "(97,)\n",
      "actions (std=0.05): [[-0.02843939 -0.12645188 -0.28435194 -0.36857846 -0.18905129 -0.24842718\n",
      "  -0.18360354  0.397       0.11880803]]\n",
      "log_probs (std=0.05): [[ 0.88945925  2.0337434  -0.29676688  1.9152368   1.4886996   1.098759\n",
      "   1.9954494   2.0767937   1.818128  ]]\n",
      "actions (std=0.2): [[-0.18615791 -0.2311075  -0.13900518 -0.397       0.08529566 -0.3927349\n",
      "  -0.17923063  0.28373653  0.22939384]]\n",
      "log_probs (std=0.2): [[ 0.7753055  -0.77099574  1.8116955   2.0767937  -7.613842   -7.102746\n",
      "   1.956349   -0.4889294   0.96307755]]\n"
     ]
    }
   ],
   "source": [
    "actor_wrap = TrifingerActor(actor, noisy= True)\n",
    "dummy_input = np.random.randn( env.observation_space.shape[0])\n",
    "print(dummy_input.shape)\n",
    "_, actions, _ = actor_wrap(dummy_input, std=0.05)\n",
    "print(f\"actions (std=0.05): {actions}\")\n",
    "_,_,log_probs = actor_wrap(dummy_input,actions=actions) \n",
    "print(f\"log_probs (std=0.05): {log_probs}\")\n",
    "_, actions, _ = actor_wrap(dummy_input, std= 0.2)\n",
    "print(f\"actions (std=0.2): {actions}\")\n",
    "_,_,log_probs = actor_wrap(dummy_input,actions=actions) \n",
    "print(f\"log_probs (std=0.2): {log_probs}\")"
   ]
  },
  {
   "attachments": {},
   "cell_type": "markdown",
   "metadata": {},
   "source": [
    "A single MC episode:"
   ]
  },
  {
   "cell_type": "code",
   "execution_count": 15,
   "metadata": {},
   "outputs": [],
   "source": [
    "def run_episode(\n",
    "        initial_obs: dict, initial_info: dict, actor: TrifingerActor, \n",
    "        env: gym.Env, discount: float, std: float = 0.05\n",
    "    ):\n",
    "    \"\"\"Run one episode.\"\"\"\n",
    "    obs = initial_obs\n",
    "    info = initial_info\n",
    "    actor.reset() # reset the actor\n",
    "    t = 0\n",
    "    rewards = []\n",
    "    episode_return = 0\n",
    "    infos = []\n",
    "    # print(actor.noisy)\n",
    "    while True:\n",
    "        _, action,_ = actor(obs, std=std)\n",
    "        # print the action[0]\n",
    "        # print(action[0])\n",
    "        obs, rew, _, truncated, info = env.step(action[0])\n",
    "        # if want to normalize the rewards\n",
    "        # rew_norm = behavior_dataset.normalize_rewards([rew])[0] \n",
    "        infos.append(info)\n",
    "        episode_return += rew * (discount**t)\n",
    "        # rewards.append(rew_norm)\n",
    "        t += 1\n",
    "        if truncated: # should only be called @ t==750, actually it is at 748\n",
    "            \n",
    "            #if info[\"has_achieved\"]:\n",
    "            #    print(\"Success: Goal achieved at end of episode.\")\n",
    "            #else:\n",
    "            #    print(\"Goal not reached at the end of the episode.\")\n",
    "            break\n",
    "            \n",
    "    return episode_return, None, infos"
   ]
  },
  {
   "cell_type": "code",
   "execution_count": 16,
   "metadata": {},
   "outputs": [],
   "source": [
    "enable_plot = False\n",
    "def estimate_monte_carlo_returns(env,\n",
    "                                 discount,\n",
    "                                 actor,\n",
    "                                 std,\n",
    "                                 num_episodes,\n",
    "                                 max_length = 1000):\n",
    "    \"\"\"Estimate policy returns using with Monte Carlo.\"\"\"\n",
    "    # we reset after each episode\n",
    "    episode_return_sum = 0\n",
    "    eps = []\n",
    "    infos = []\n",
    "    _reset_time = 500\n",
    "    pbar = tqdm.tqdm(range(num_episodes), desc='Running Monte Carlo')\n",
    "    i = 0\n",
    "    for i in pbar:\n",
    "\n",
    "        # actually the env.reset() is only reset every 8 episodes \n",
    "        # in the original code, there is a soft reset otherwise (see below)\n",
    "\n",
    "        if i%8 == 0:\n",
    "            inital_obs, inital_info = env.reset()\n",
    "        ep_return, rewards, info = run_episode(inital_obs, inital_info, actor, env, discount, std=std)\n",
    "        # calculate discounted returns\n",
    "        episode_return_sum += ep_return\n",
    "        eps.append(ep_return)\n",
    "        infos.append(info)\n",
    "        # caluclate std of eps\n",
    "        # pbar.set_postfix({'std:': np.std(eps)*(1 - discount)})\n",
    "        pbar.set_postfix({'mean:': np.mean(eps)* (1 - discount)})\n",
    "        # plot in this loop the rewards\n",
    "        # plot the first 750 rewards\n",
    "        if enable_plot:\n",
    "            plt.plot(rewards[:750])\n",
    "            plt.show()\n",
    "\n",
    "        # start soft-reset\n",
    "        # move fingers to initial position and wait until cube has settled down\n",
    "        env.reset_fingers(_reset_time) # as in original code\n",
    "        if i < num_episodes - 1:\n",
    "            # retrieve cube from barrier and center it approximately\n",
    "            env.sim_env.reset_cube()\n",
    "        # Sample new goal\n",
    "        env.sim_env.sample_new_goal()\n",
    "        initial_obs, initial_info = env.reset_fingers(_reset_time)\n",
    "        # print(\"finished soft reset\")\n",
    "\n",
    "    return episode_return_sum / num_episodes * (1 - discount) , eps, infos"
   ]
  },
  {
   "cell_type": "code",
   "execution_count": 18,
   "metadata": {},
   "outputs": [
    {
     "name": "stdout",
     "output_type": "stream",
     "text": [
      "False\n"
     ]
    }
   ],
   "source": [
    "import pickle as pkl\n",
    "print(monte_carlo)"
   ]
  },
  {
   "cell_type": "code",
   "execution_count": 19,
   "metadata": {},
   "outputs": [],
   "source": [
    "if monte_carlo:\n",
    "    actor_wrap = TrifingerActor(actor, noisy = True)\n",
    "    target_policy_std = 0.05\n",
    "    ep_stats, rewards, infos = estimate_monte_carlo_returns(env, discount, actor_wrap,target_policy_std, num_mc_episodes)\n",
    "    # save the array rewards\n",
    "    with open('noisy_05.pkl', 'wb') as f:\n",
    "        pkl.dump(rewards, f)\n",
    "        # save the ep_stats into the same file\n",
    "        pkl.dump(ep_stats, f)\n",
    "        pkl.dump(infos, f)\n",
    "else:\n",
    "    # load the rewards\n",
    "    with open('noisy_05.pkl', 'rb') as f:\n",
    "        rewards = pkl.load(f)\n",
    "        ep_stats = pkl.load(f)\n",
    "        infos = pkl.load(f)"
   ]
  },
  {
   "cell_type": "code",
   "execution_count": 20,
   "metadata": {},
   "outputs": [],
   "source": [
    "if monte_carlo:\n",
    "    actor_wrap = TrifingerActor(actor, noisy = True)\n",
    "    target_policy_std = 0.2\n",
    "    ep_stats_high_var, rewards_high_var, infos_high_var = estimate_monte_carlo_returns(env, discount, actor_wrap,target_policy_std, num_mc_episodes)\n",
    "        # save the array rewards\n",
    "    with open('noisy_2.pkl', 'wb') as f:\n",
    "        pkl.dump(rewards_high_var, f)\n",
    "        pkl.dump(ep_stats_high_var, f)\n",
    "        pkl.dump(infos_high_var, f)\n",
    "else:\n",
    "    with open('noisy_2.pkl', 'rb') as f:\n",
    "        rewards_high_var = pkl.load(f)\n",
    "        ep_stats_high_var = pkl.load(f)\n",
    "        infos_high_var = pkl.load(f)"
   ]
  },
  {
   "cell_type": "code",
   "execution_count": 21,
   "metadata": {},
   "outputs": [],
   "source": [
    "if monte_carlo:\n",
    "    target_policy_std = 0.0\n",
    "    # actor with no noise\n",
    "    actor_wrap = TrifingerActor(actor, noisy = False)\n",
    "    ep_stats_no_noise, rewards_no_noise, infos_no_noise = estimate_monte_carlo_returns(env, discount, actor_wrap,target_policy_std, num_mc_episodes)\n",
    "    # save the array rewards\n",
    "    with open('no_noise.pkl', 'wb') as f:\n",
    "        pkl.dump(rewards_no_noise, f)\n",
    "        pkl.dump(ep_stats_no_noise, f)\n",
    "        pkl.dump(infos_no_noise, f)\n",
    "else:\n",
    "    with open('no_noise.pkl', 'rb') as f:\n",
    "        rewards_no_noise = pkl.load(f)\n",
    "        ep_stats_no_noise = pkl.load(f)\n",
    "        infos_no_noise = pkl.load(f)"
   ]
  },
  {
   "attachments": {},
   "cell_type": "markdown",
   "metadata": {},
   "source": [
    "Analysis of the mc rollouts with the different actors"
   ]
  },
  {
   "attachments": {},
   "cell_type": "markdown",
   "metadata": {},
   "source": [
    "In line with the evaluation script of Trifinger, we only count something as a success if it has achieved the goal in the last step"
   ]
  },
  {
   "cell_type": "code",
   "execution_count": 22,
   "metadata": {},
   "outputs": [
    {
     "name": "stdout",
     "output_type": "stream",
     "text": [
      "successes with low variance:  48/50\n",
      "successes with high variance: 24/50\n",
      "successes with no noise: 48/50\n"
     ]
    }
   ],
   "source": [
    "def count_successes(infos):\n",
    "    successes = 0\n",
    "    for i in range(len(infos)):\n",
    "        if infos[i][len(infos[i])-1][\"has_achieved\"]==True:\n",
    "            successes += 1\n",
    "    return successes\n",
    "            \n",
    "print(f\"successes with low variance:  {count_successes(infos)}/{num_mc_episodes}\")\n",
    "print(f\"successes with high variance: {count_successes(infos_high_var)}/{num_mc_episodes}\")\n",
    "print(f\"successes with no noise: {count_successes(infos_no_noise)}/{num_mc_episodes}\")\n"
   ]
  },
  {
   "cell_type": "code",
   "execution_count": 23,
   "metadata": {},
   "outputs": [],
   "source": [
    "# caluclate std of the rewards of each epsiode\n",
    "def calculate_std(rewards):\n",
    "    discounted = np.asarray(rewards)*(1-discount) # normalize the rewards (as in eps stats)\n",
    "    # print(np.mean(discounted))\n",
    "    if num_mc_episodes == 1:\n",
    "        return 0.2\n",
    "    return np.std(discounted)\n",
    "\n",
    "std = calculate_std(rewards)\n",
    "std_high_var = calculate_std(rewards_high_var)\n",
    "std_no_noise = calculate_std(rewards_no_noise)"
   ]
  },
  {
   "cell_type": "code",
   "execution_count": 24,
   "metadata": {},
   "outputs": [],
   "source": [
    "rewards = np.asarray(rewards)*(1-discount)\n",
    "rewards_high_var = np.asarray(rewards_high_var)*(1-discount)\n",
    "rewards_no_noise = np.asarray(rewards_no_noise)*(1-discount)"
   ]
  },
  {
   "cell_type": "code",
   "execution_count": 25,
   "metadata": {},
   "outputs": [
    {
     "data": {
      "image/png": "[encoded data removed]",
      "text/plain": [
       "<Figure size 640x480 with 1 Axes>"
      ]
     },
     "metadata": {},
     "output_type": "display_data"
    }
   ],
   "source": [
    "# plot the rewards of the two policies, with discrete points\n",
    "plt.plot(rewards, 'r.', label='low variance')\n",
    "plt.plot(rewards_high_var, 'g.', label='high variance')\n",
    "plt.plot(rewards_no_noise, 'b.', label='no noise')\n",
    "# add a line for the mean and add the std deviation as a shaded area\n",
    "\n",
    "plt.axhline(y=ep_stats, color='r', linestyle='-')\n",
    "plt.axhline(y=ep_stats_high_var, color='g', linestyle='-')\n",
    "plt.axhline(y=ep_stats_no_noise, color='b', linestyle='-')\n",
    "# add the shaded std deviation around the mean\n",
    "plt.fill_between(range(len(rewards)), ep_stats - std, ep_stats + std, color='r', alpha=0.2)\n",
    "plt.fill_between(range(len(rewards_high_var)),ep_stats_high_var - std_high_var, ep_stats_high_var + std_high_var, color='g', alpha=0.2)\n",
    "plt.fill_between(range(len(rewards_no_noise)), ep_stats_no_noise - std_no_noise, ep_stats_no_noise + std_no_noise, color='b', alpha=0.2)\n",
    "# add legend\n",
    "plt.legend()\n",
    "# add title\n",
    "plt.title(\"Rewards of the three policies\")\n",
    "# add axis labels\n",
    "# make the x axis discrete\n",
    "plt.xticks(range(len(rewards)))\n",
    "plt.xlabel(\"Episode\")\n",
    "plt.ylabel(\"Reward\")\n",
    "plt.show()\n"
   ]
  },
  {
   "attachments": {},
   "cell_type": "markdown",
   "metadata": {},
   "source": [
    "# Transform/Normalize the offline RL dataset"
   ]
  },
  {
   "cell_type": "code",
   "execution_count": 26,
   "metadata": {},
   "outputs": [],
   "source": [
    "import importlib\n",
    "import policy_eval.dataset\n",
    "importlib.reload(policy_eval.dataset)\n",
    "from policy_eval.dataset import D4rlDataset"
   ]
  },
  {
   "cell_type": "code",
   "execution_count": 27,
   "metadata": {},
   "outputs": [],
   "source": [
    "%%capture\n",
    "# normalizing the dataset\n",
    "from policy_eval.dataset import D4rlDataset\n",
    "behavior_dataset = D4rlDataset(\n",
    "    env,\n",
    "    normalize_states=normalize_states, # True\n",
    "    normalize_rewards=normalize_rewards, # True\n",
    "    noise_scale=noise_scale, # is 0, adds noise to the rewards\n",
    "    bootstrap=bootstrap) # is False"
   ]
  },
  {
   "cell_type": "code",
   "execution_count": 29,
   "metadata": {},
   "outputs": [
    {
     "name": "stderr",
     "output_type": "stream",
     "text": [
      "2023-07-04 12:23:48.474535: I tensorflow/core/common_runtime/executor.cc:1197] [/device:CPU:0] (DEBUG INFO) Executor start aborting (this does not indicate an error and you can ignore this message): INVALID_ARGUMENT: You must feed a value for placeholder tensor 'Placeholder/_4' with dtype float and shape [2880000]\n",
      "\t [[{{node Placeholder/_4}}]]\n",
      "2023-07-04 12:23:58.583130: I tensorflow/core/kernels/data/shuffle_dataset_op.cc:392] Filling up shuffle buffer (this may take a while): 2231645 of 2880000\n",
      "2023-07-04 12:24:01.482440: I tensorflow/core/kernels/data/shuffle_dataset_op.cc:417] Shuffle buffer filled.\n"
     ]
    }
   ],
   "source": [
    "tf_dataset = behavior_dataset.with_uniform_sampling(sample_batch_size)\n",
    "tf_dataset_iter = iter(tf_dataset)\n",
    "# can start sampling from the newly normalized dataset\n",
    "(states, actions, next_states, rewards, masks, weights,\n",
    "    _) = next(tf_dataset_iter)"
   ]
  },
  {
   "attachments": {},
   "cell_type": "markdown",
   "metadata": {},
   "source": [
    "# Setup the OPE methods"
   ]
  },
  {
   "cell_type": "code",
   "execution_count": 61,
   "metadata": {},
   "outputs": [
    {
     "name": "stderr",
     "output_type": "stream",
     "text": [
      "/envs/eval/lib/python3.8/site-packages/keras/initializers/initializers.py:120: UserWarning: The initializer VarianceScaling is unseeded and being called multiple times, which will return identical values each time (even if the initializer is unseeded). Please update your code to provide a seed to the initializer, or avoid using the same initalizer instance more than once.\n",
      "  warnings.warn(\n"
     ]
    }
   ],
   "source": [
    "from policy_eval import utils\n",
    "from policy_eval.q_fitter import QFitter\n",
    "algo = 'fqe'\n",
    "lr, weight_decay, tau = 3e-5, 1e-5, 0.005 # as in paper\n",
    "\n",
    "if algo == 'fqe':\n",
    "    model = QFitter(env.action_space.shape[0],\n",
    "                    env.observation_space.shape[0], lr, weight_decay,\n",
    "                    tau)"
   ]
  },
  {
   "attachments": {},
   "cell_type": "markdown",
   "metadata": {},
   "source": [
    "These functions are handed to the OPE methods\n"
   ]
  },
  {
   "cell_type": "code",
   "execution_count": 62,
   "metadata": {},
   "outputs": [
    {
     "name": "stdout",
     "output_type": "stream",
     "text": [
      "actor is noisy\n"
     ]
    }
   ],
   "source": [
    "target_policy_std = 0.2\n",
    "target_policy_noise = True\n",
    "actor_wrap = TrifingerActor(actor, noisy = target_policy_noise)\n",
    "if actor_wrap.noisy:\n",
    "    print(\"actor is noisy\")\n",
    "else:\n",
    "    print(\"actor is not noisy\")"
   ]
  },
  {
   "cell_type": "code",
   "execution_count": 63,
   "metadata": {},
   "outputs": [],
   "source": [
    "min_reward = tf.reduce_min(behavior_dataset.rewards)\n",
    "max_reward = tf.reduce_max(behavior_dataset.rewards)\n",
    "min_state = tf.reduce_min(behavior_dataset.states, 0)\n",
    "max_state = tf.reduce_max(behavior_dataset.states, 0)"
   ]
  },
  {
   "cell_type": "code",
   "execution_count": 64,
   "metadata": {},
   "outputs": [],
   "source": [
    "# these functions are handed to the OPE methods\n",
    "def get_target_actions(states):\n",
    "    # now we need to offload to cpu and to numpy\n",
    "    states_unnorm = behavior_dataset.unnormalize_states(states)\n",
    "    # to numpy\n",
    "    states_unnorm = states_unnorm.numpy()\n",
    "    actions = actor_wrap(\n",
    "        states_unnorm,\n",
    "        std=target_policy_std)[1]\n",
    "    # convert actions to tf\n",
    "    #print(actions.shape)\n",
    "    actions = tf.convert_to_tensor(actions)\n",
    "    return actions\n",
    "def get_target_logprobs(states, actions):\n",
    "    states_unnorm = behavior_dataset.unnormalize_states(states)\n",
    "    # to numpy\n",
    "    states_unnorm = states_unnorm.numpy()\n",
    "    actions = actions.numpy()\n",
    "    log_probs = actor_wrap(\n",
    "        states_unnorm,\n",
    "        actions=actions,\n",
    "        std=target_policy_std)[2]\n",
    "    if tf.rank(log_probs) > 1:\n",
    "        log_probs = tf.reduce_sum(log_probs, -1)\n",
    "    # to tf\n",
    "    log_probs = tf.convert_to_tensor(log_probs)\n",
    "    return log_probs\n",
    "def update_step():\n",
    "    (states, actions, next_states, rewards, masks, weights,\n",
    "        _) = next(tf_dataset_iter)\n",
    "    initial_actions = get_target_actions(behavior_dataset.initial_states)\n",
    "    next_actions = get_target_actions(next_states)\n",
    "\n",
    "    model.update(states, actions, next_states, next_actions, rewards, masks,\n",
    "        weights, discount, min_reward, max_reward)"
   ]
  },
  {
   "attachments": {},
   "cell_type": "markdown",
   "metadata": {},
   "source": [
    "# Train the Model"
   ]
  },
  {
   "cell_type": "code",
   "execution_count": 65,
   "metadata": {},
   "outputs": [
    {
     "name": "stderr",
     "output_type": "stream",
     "text": [
      "Running Training:   0%| | 0/200000 [00:00<?,"
     ]
    },
    {
     "name": "stderr",
     "output_type": "stream",
     "text": [
      "Running Training:   0%| | 8/200000 [00:00<3:"
     ]
    },
    {
     "name": "stdout",
     "output_type": "stream",
     "text": [
      "saving to file: trifinger-cube-push-sim-mixed-v0;noise=True_2.txt\n"
     ]
    },
    {
     "name": "stderr",
     "output_type": "stream",
     "text": [
      "Running Training:  22%|▏| 44772/200000 [10:4"
     ]
    }
   ],
   "source": [
    "num_updates = 200_000\n",
    "pbar = tqdm.tqdm(range(num_updates), desc='Running Training')\n",
    "\n",
    "for i in pbar:\n",
    "    update_step()\n",
    "\n",
    "    if i % 100 == 0:\n",
    "        inital_actions = get_target_actions(behavior_dataset.initial_states)\n",
    "        preds = model(behavior_dataset.initial_states, inital_actions)\n",
    "        pred_returns = (tf.reduce_sum(preds * behavior_dataset.initial_weights) /\n",
    "                tf.reduce_sum(behavior_dataset.initial_weights))\n",
    "        \n",
    "        # Update the progress bar with the return value\n",
    "        pred_returns = behavior_dataset.unnormalize_rewards(pred_returns)\n",
    "        pbar.set_postfix({'pred_returns': pred_returns.numpy()})\n",
    "    # every 10000 iterations, save the pred_results to a file\n",
    "    # this is just lazy, did not setup a proper logging for this demo\n",
    "    if i % 1000 == 0:\n",
    "        if i == 0:\n",
    "            print(f\"saving to file: {env_name};noise={target_policy_noise}_2.txt\")\n",
    "        with open(f\"{env_name};noise={target_policy_noise}_2.txt\", \"a\") as f:\n",
    "\n",
    "            f.write(str(pred_returns.numpy()))\n",
    "            f.write(\"\\n\")"
   ]
  },
  {
   "cell_type": "code",
   "execution_count": 57,
   "metadata": {},
   "outputs": [
    {
     "name": "stdout",
     "output_type": "stream",
     "text": [
      "['-0.013416738\\n', '0.004083692\\n', '0.010940096\\n', '0.019735934\\n', '0.028816314\\n', '0.0397472\\n', '0.05221284\\n', '0.06535485\\n', '0.07546671\\n', '0.087591134\\n', '0.100145444\\n', '0.11163819\\n', '0.12397807\\n', '0.13780011\\n', '0.14826275\\n', '0.1614019\\n', '0.1763142\\n', '0.18889523\\n', '0.20057498\\n', '0.21003753\\n', '0.22177517\\n', '0.23522308\\n', '0.24625672\\n', '0.25636643\\n', '0.26771635\\n', '0.27595118\\n', '0.28625298\\n', '0.29865378\\n', '0.30443975\\n', '0.31285694\\n', '0.3255699\\n', '0.33275637\\n', '0.33908486\\n', '0.34695047\\n', '0.35479805\\n', '0.36461076\\n', '0.36934772\\n', '0.3796635\\n', '0.38843706\\n', '0.39329842\\n', '0.3981438\\n', '0.4058117\\n', '0.41186687\\n', '0.4169156\\n', '0.42436036\\n', '0.43103263\\n', '0.44117078\\n', '0.44659835\\n', '0.45322356\\n', '0.45797703\\n', '0.4622106\\n', '0.47106168\\n', '0.4757957\\n', '0.4811433\\n', '0.48900932\\n', '0.49002776\\n', '0.49305868\\n', '0.49806207\\n', '0.5015952\\n', '0.5070826\\n', '0.51261586\\n', '0.5145211\\n', '0.5190751\\n', '0.5245563\\n', '0.52443\\n', '0.52935624\\n', '0.5351118\\n', '0.5368808\\n', '0.53972536\\n', '0.5438205\\n', '0.5512953\\n', '0.5542138\\n', '0.55811334\\n', '0.55703545\\n', '0.5602864\\n', '0.5644624\\n', '0.5659644\\n', '0.5674176\\n', '0.5726476\\n', '0.5758739\\n', '0.5793039\\n', '0.5785267\\n', '0.583947\\n', '0.584779\\n', '0.5856802\\n', '0.58875763\\n', '0.5894866\\n', '0.58690137\\n', '0.59363055\\n', '0.597342\\n', '0.5968973\\n', '0.5988984\\n', '0.60168266\\n', '0.6039917\\n', '0.6059168\\n', '0.60568565\\n', '0.6082479\\n', '0.61175776\\n', '0.61449313\\n', '0.6163314\\n']\n"
     ]
    }
   ],
   "source": [
    "print(noise)"
   ]
  },
  {
   "cell_type": "code",
   "execution_count": 11,
   "metadata": {},
   "outputs": [
    {
     "name": "stdout",
     "output_type": "stream",
     "text": [
      "200\n",
      "207\n"
     ]
    }
   ],
   "source": [
    "# plot the env_name once with noise and once without noise\n",
    "with open(\"trifinger-cube-push-sim-mixed-v0;noise=True_2.txt\") as f:\n",
    "    noise = f.readlines()\n",
    "with open(\"trifinger-cube-push-sim-mixed-v0;noise=False.txt\") as f:\n",
    "    no_noise = f.readlines()\n",
    "\n",
    "# convert the strings to numpy arrays contains \\n \n",
    "print(len(noise))\n",
    "print(len(no_noise))\n",
    "data_points = max(len(noise), len(no_noise))\n",
    "noisy = np.array([noise[i].strip() for i in range(len(noise))])\n",
    "noisy = noisy.astype(np.float32)\n",
    "expert = np.array([no_noise[i].strip() for i in range(len(no_noise))])\n",
    "expert = expert.astype(np.float32)\n"
   ]
  },
  {
   "cell_type": "code",
   "execution_count": 13,
   "metadata": {},
   "outputs": [
    {
     "data": {
      "image/png": "[encoded data removed]",
      "text/plain": [
       "<Figure size 640x480 with 1 Axes>"
      ]
     },
     "metadata": {},
     "output_type": "display_data"
    }
   ],
   "source": [
    "# plot the results with the arrays the x value and evenly spaced y values\n",
    "plt.plot(noisy, label='high_var', color='g')\n",
    "plt.plot(expert, label='expert', color='b')\n",
    "# same color as expert line but doted\n",
    "\n",
    "\n",
    "plt.axhline(y=ep_stats_high_var, color='g', linestyle='--', label = 'mc_rollout_high_var')\n",
    "plt.axhline(y=ep_stats_no_noise, color='b', linestyle='--', label = 'mc_rollout_no_noise')\n",
    "# add the shaded std deviation around the mean\n",
    "#plt.fill_between(range(data_points), ep_stats_high_var - std_high_var, ep_stats_high_var + std_high_var, color='g', alpha=0.2)\n",
    "#plt.fill_between(range(data_points), ep_stats_no_noise - std_no_noise, ep_stats_no_noise + std_no_noise, color='b', alpha=0.2)\n",
    "plt.title('dataset: trifinger-cube-push-sim-mixed-v0 \\n algo: fqe')\n",
    "plt.xlabel('update steps / 10000')\n",
    "plt.ylabel('reward')\n",
    "plt.legend()\n",
    "plt.show()\n"
   ]
  }
 ],
 "metadata": {
  "kernelspec": {
   "display_name": "eval",
   "language": "python",
   "name": "eval"
  },
  "language_info": {
   "codemirror_mode": {
    "name": "ipython",
    "version": 3
   },
   "file_extension": ".py",
   "mimetype": "text/x-python",
   "name": "python",
   "nbconvert_exporter": "python",
   "pygments_lexer": "ipython3",
   "version": "3.8.10"
  },
  "orig_nbformat": 4
 },
 "nbformat": 4,
 "nbformat_minor": 2
}
